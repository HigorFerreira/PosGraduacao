{
  "cells": [
    {
      "cell_type": "markdown",
      "metadata": {
        "id": "W4vp9EVuXH-D"
      },
      "source": [
        "# Listas e dicionários"
      ]
    },
    {
      "cell_type": "markdown",
      "metadata": {
        "id": "KCxQhdJcXRlW"
      },
      "source": [
        "## Lista de 1 a 10"
      ]
    },
    {
      "cell_type": "markdown",
      "metadata": {
        "id": "YaC6-zFMgtbO"
      },
      "source": [
        "### Paradigma imperativo"
      ]
    },
    {
      "cell_type": "code",
      "execution_count": 1,
      "metadata": {
        "id": "anJYgZv1W8M7"
      },
      "outputs": [],
      "source": [
        "lista = []\n",
        "for i in range(1, 11):\n",
        "  lista.append(i)"
      ]
    },
    {
      "cell_type": "code",
      "execution_count": 2,
      "metadata": {
        "colab": {
          "base_uri": "https://localhost:8080/"
        },
        "id": "PDlz2MmIZIdN",
        "outputId": "7c2cae26-113d-4451-fa4b-3bceed7e938b"
      },
      "outputs": [
        {
          "data": {
            "text/plain": [
              "[1, 2, 3, 4, 5, 6, 7, 8, 9, 10]"
            ]
          },
          "execution_count": 2,
          "metadata": {},
          "output_type": "execute_result"
        }
      ],
      "source": [
        "lista"
      ]
    },
    {
      "cell_type": "markdown",
      "metadata": {
        "id": "xAhVmnHhXssw"
      },
      "source": [
        "### List comprehensions (funcional)"
      ]
    },
    {
      "cell_type": "code",
      "execution_count": 3,
      "metadata": {
        "id": "ROIW3CzdXiWY"
      },
      "outputs": [],
      "source": [
        "lista = [i for i in range(1, 11)]"
      ]
    },
    {
      "cell_type": "code",
      "execution_count": 4,
      "metadata": {
        "colab": {
          "base_uri": "https://localhost:8080/"
        },
        "id": "eLhl92T7ZKIj",
        "outputId": "434625aa-fa01-49a9-98e4-3d7e9669ca37"
      },
      "outputs": [
        {
          "data": {
            "text/plain": [
              "[1, 2, 3, 4, 5, 6, 7, 8, 9, 10]"
            ]
          },
          "execution_count": 4,
          "metadata": {},
          "output_type": "execute_result"
        }
      ],
      "source": [
        "lista"
      ]
    },
    {
      "cell_type": "markdown",
      "metadata": {
        "id": "TUJUKv0Rg-7x"
      },
      "source": [
        "## Contagem de vogais"
      ]
    },
    {
      "cell_type": "markdown",
      "metadata": {},
      "source": [
        "### Dados iniciais"
      ]
    },
    {
      "cell_type": "code",
      "execution_count": 5,
      "metadata": {},
      "outputs": [],
      "source": [
        "from my_utils import print_dict\n",
        "lista_de_palavras = [ \"Python\", \"é\", \"uma\", \"ótima\", \"linguagem\" ]"
      ]
    },
    {
      "cell_type": "markdown",
      "metadata": {
        "id": "Nq-e728KhUSm"
      },
      "source": [
        "### Imperativo"
      ]
    },
    {
      "cell_type": "code",
      "execution_count": 6,
      "metadata": {
        "colab": {
          "base_uri": "https://localhost:8080/"
        },
        "id": "hWZ_MII1hau4",
        "outputId": "868e707c-d8fe-448e-d971-8edf5d4d64c5"
      },
      "outputs": [
        {
          "name": "stdout",
          "output_type": "stream",
          "text": [
            "Python ==> Tem 1 vogais\n",
            "é ==> Tem 1 vogais\n",
            "uma ==> Tem 2 vogais\n",
            "ótima ==> Tem 3 vogais\n",
            "linguagem ==> Tem 4 vogais\n"
          ]
        }
      ],
      "source": [
        "\n",
        "for palavra in lista_de_palavras:\n",
        "  vogais = 0\n",
        "  for letra in palavra:\n",
        "    if letra in \"aeiouáéíóúãõâêô\":\n",
        "      vogais += 1\n",
        "  print(f'{palavra} ==> Tem {vogais} vogais')"
      ]
    },
    {
      "cell_type": "markdown",
      "metadata": {
        "id": "lH8w64g1ievu"
      },
      "source": [
        "### Dict comprehensions (funcional)"
      ]
    },
    {
      "cell_type": "code",
      "execution_count": 7,
      "metadata": {
        "id": "13cJGVZZieSy"
      },
      "outputs": [
        {
          "name": "stdout",
          "output_type": "stream",
          "text": [
            "Python ==> Tem 1 vogais\n",
            "é ==> Tem 1 vogais\n",
            "uma ==> Tem 2 vogais\n",
            "ótima ==> Tem 3 vogais\n",
            "linguagem ==> Tem 4 vogais\n"
          ]
        }
      ],
      "source": [
        "@print_dict(print_fn=lambda key, value: f\"{key} ==> Tem {value} vogais\")\n",
        "def get_dict(): return { palavra: sum([1 for letra in palavra if letra in \"aeiouáéíóúãõâêô\"]) for palavra in lista_de_palavras }"
      ]
    },
    {
      "cell_type": "markdown",
      "metadata": {
        "id": "3T043mhrjeC5"
      },
      "source": [
        "## Outro exemplo legal de Dict comprehensions"
      ]
    },
    {
      "cell_type": "code",
      "execution_count": 8,
      "metadata": {
        "id": "DFOtYpRoXpV9"
      },
      "outputs": [],
      "source": [
        "cores_das_frutas = { str(key): value for key, value in [ ('Banana', 'Amarela'), ('Morango', 'Vermelha'), ('Blueberry', 'Azul') ] }"
      ]
    },
    {
      "cell_type": "code",
      "execution_count": 9,
      "metadata": {
        "id": "RP5sTcN4YbCv"
      },
      "outputs": [],
      "source": [
        "# fruta = input('Digite uma fruta: ')\n",
        "# print(f'{fruta} é da cor {cores_das_frutas[fruta]}')"
      ]
    },
    {
      "cell_type": "code",
      "execution_count": null,
      "metadata": {
        "id": "Ij9UOb4iYhrn"
      },
      "outputs": [],
      "source": []
    },
    {
      "cell_type": "markdown",
      "metadata": {
        "id": "C6ev1hi9kddR"
      },
      "source": [
        "# Funções de ordem superior\n",
        "Vamos fazer algumas operações com a lista de trabalho abaixo para entender como as funções de ordem superior podem nos ajudar"
      ]
    },
    {
      "cell_type": "code",
      "execution_count": 10,
      "metadata": {
        "colab": {
          "base_uri": "https://localhost:8080/"
        },
        "id": "NvO7ucm2sipD",
        "outputId": "4a0aaca0-e072-469c-d0e0-b6253939d4e3"
      },
      "outputs": [
        {
          "data": {
            "text/plain": [
              "[5, 12, 14, 0, 1, 2, 24, 49, 40, 3, 7]"
            ]
          },
          "execution_count": 10,
          "metadata": {},
          "output_type": "execute_result"
        }
      ],
      "source": [
        "lista = [ 5, 12, 14, 0, 1, 2, 24, 49, 40, 3, 7 ]\n",
        "lista"
      ]
    },
    {
      "cell_type": "markdown",
      "metadata": {
        "id": "TdqpkFYat8Qb"
      },
      "source": [
        "## Ordenação"
      ]
    },
    {
      "cell_type": "markdown",
      "metadata": {
        "id": "ou9c6KF_t_KG"
      },
      "source": [
        "### Imperativo"
      ]
    },
    {
      "cell_type": "code",
      "execution_count": 11,
      "metadata": {
        "colab": {
          "base_uri": "https://localhost:8080/"
        },
        "id": "7bKDJuyIuET0",
        "outputId": "91aeede5-3d89-4a1f-a028-627f144e5cf4"
      },
      "outputs": [
        {
          "data": {
            "text/plain": [
              "[0, 1, 2, 3, 5, 7, 12, 14, 24, 40, 49]"
            ]
          },
          "execution_count": 11,
          "metadata": {},
          "output_type": "execute_result"
        }
      ],
      "source": [
        "from copy import deepcopy\n",
        "ordenada = deepcopy(lista)\n",
        "for i in range(len(ordenada)):\n",
        "  for j in range(i + 1, len(ordenada)):\n",
        "    if ordenada[i] > ordenada[j]:\n",
        "      temp = ordenada[i]\n",
        "      ordenada[i] = ordenada[j]\n",
        "      ordenada[j] = temp\n",
        "ordenada"
      ]
    },
    {
      "cell_type": "markdown",
      "metadata": {
        "id": "VwXi92jOwKIK"
      },
      "source": [
        "### Funcional"
      ]
    },
    {
      "cell_type": "code",
      "execution_count": 12,
      "metadata": {
        "colab": {
          "base_uri": "https://localhost:8080/"
        },
        "id": "kgk1NpWvtgQS",
        "outputId": "8dc7de29-1375-4722-9cc9-a86d0dc49315"
      },
      "outputs": [
        {
          "data": {
            "text/plain": [
              "[0, 1, 2, 3, 5, 7, 12, 14, 24, 40, 49]"
            ]
          },
          "execution_count": 12,
          "metadata": {},
          "output_type": "execute_result"
        }
      ],
      "source": [
        "ordenada_hoc = sorted(lista)\n",
        "ordenada_hoc"
      ]
    },
    {
      "cell_type": "markdown",
      "metadata": {
        "id": "d3artXO5wm2W"
      },
      "source": [
        "## Filtragem"
      ]
    },
    {
      "cell_type": "markdown",
      "metadata": {
        "id": "M8OiMLOAwpvE"
      },
      "source": [
        "### Imperativo"
      ]
    },
    {
      "cell_type": "code",
      "execution_count": 13,
      "metadata": {
        "colab": {
          "base_uri": "https://localhost:8080/"
        },
        "id": "jeTTXu8JwyYi",
        "outputId": "840d276c-d157-4add-a729-01a094508224"
      },
      "outputs": [
        {
          "data": {
            "text/plain": [
              "[0, 2, 12, 14, 24, 40]"
            ]
          },
          "execution_count": 13,
          "metadata": {},
          "output_type": "execute_result"
        }
      ],
      "source": [
        "filtrado = []\n",
        "for candidato in ordenada_hoc:\n",
        "  if candidato % 2 == 0:\n",
        "    filtrado.append(candidato)\n",
        "filtrado"
      ]
    },
    {
      "cell_type": "markdown",
      "metadata": {
        "id": "bSpXI6Ggwuw1"
      },
      "source": [
        "### Funcional"
      ]
    },
    {
      "cell_type": "code",
      "execution_count": 14,
      "metadata": {
        "colab": {
          "base_uri": "https://localhost:8080/"
        },
        "id": "FpTeU2UNNibD",
        "outputId": "662c5027-4700-4708-d8c3-de9849d4fb2c"
      },
      "outputs": [
        {
          "data": {
            "text/plain": [
              "[0, 2, 12, 14, 24, 40]"
            ]
          },
          "execution_count": 14,
          "metadata": {},
          "output_type": "execute_result"
        }
      ],
      "source": [
        "filtrado = list(filter(lambda x: x%2 == 0, ordenada_hoc))\n",
        "filtrado"
      ]
    },
    {
      "cell_type": "markdown",
      "metadata": {
        "id": "oZdOmCHwxjlr"
      },
      "source": [
        "## Mapa"
      ]
    },
    {
      "cell_type": "code",
      "execution_count": 15,
      "metadata": {
        "colab": {
          "base_uri": "https://localhost:8080/"
        },
        "id": "vTGkiDvvkjEB",
        "outputId": "51ad99c9-3775-4847-dd21-619cfb0aac07"
      },
      "outputs": [
        {
          "data": {
            "text/plain": [
              "[0, 1, 4, 9, 25, 49, 144, 196, 576, 1600, 2401]"
            ]
          },
          "execution_count": 15,
          "metadata": {},
          "output_type": "execute_result"
        }
      ],
      "source": [
        "a = list(map(lambda x: x**2, sorted(lista)))\n",
        "a"
      ]
    },
    {
      "cell_type": "code",
      "execution_count": null,
      "metadata": {
        "id": "yUs0EDONOWvz"
      },
      "outputs": [],
      "source": []
    },
    {
      "cell_type": "code",
      "execution_count": null,
      "metadata": {
        "id": "xPCRTR_0Ox5T"
      },
      "outputs": [],
      "source": []
    },
    {
      "cell_type": "code",
      "execution_count": null,
      "metadata": {
        "id": "pSPsKF4-ro-_"
      },
      "outputs": [],
      "source": []
    },
    {
      "cell_type": "markdown",
      "metadata": {
        "id": "AXa9PSwa9JGd"
      },
      "source": [
        "# Testes"
      ]
    },
    {
      "cell_type": "code",
      "execution_count": 16,
      "metadata": {},
      "outputs": [
        {
          "data": {
            "text/plain": [
              "0"
            ]
          },
          "execution_count": 16,
          "metadata": {},
          "output_type": "execute_result"
        }
      ],
      "source": [
        "sum([])"
      ]
    },
    {
      "cell_type": "code",
      "execution_count": null,
      "metadata": {},
      "outputs": [],
      "source": []
    }
  ],
  "metadata": {
    "colab": {
      "collapsed_sections": [
        "W4vp9EVuXH-D",
        "KCxQhdJcXRlW",
        "Nq-e728KhUSm",
        "TdqpkFYat8Qb",
        "ou9c6KF_t_KG",
        "VwXi92jOwKIK",
        "d3artXO5wm2W",
        "oZdOmCHwxjlr"
      ],
      "provenance": []
    },
    "kernelspec": {
      "display_name": "Python 3",
      "name": "python3"
    },
    "language_info": {
      "codemirror_mode": {
        "name": "ipython",
        "version": 3
      },
      "file_extension": ".py",
      "mimetype": "text/x-python",
      "name": "python",
      "nbconvert_exporter": "python",
      "pygments_lexer": "ipython3",
      "version": "3.11.9"
    }
  },
  "nbformat": 4,
  "nbformat_minor": 0
}
