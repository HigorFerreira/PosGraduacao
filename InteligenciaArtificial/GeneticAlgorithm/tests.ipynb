{
 "cells": [
  {
   "cell_type": "code",
   "execution_count": 1,
   "id": "626c0cf2",
   "metadata": {},
   "outputs": [],
   "source": [
    "from random import random\n",
    "import numpy as np\n",
    "import matplotlib.pyplot as plt\n",
    "from toolz import compose, pipe\n",
    "from collections.abc import Iterable\n",
    "\n",
    "from main import Individual"
   ]
  },
  {
   "cell_type": "code",
   "execution_count": 6,
   "id": "57f47b5f",
   "metadata": {},
   "outputs": [
    {
     "data": {
      "text/plain": [
       "550"
      ]
     },
     "execution_count": 6,
     "metadata": {},
     "output_type": "execute_result"
    }
   ],
   "source": [
    "a = Individual([ 1, 0, 0, 1 ])\n",
    "a.fitness([ 500, 100, 200, 50 ])"
   ]
  },
  {
   "cell_type": "code",
   "execution_count": 77,
   "id": "fb44f0a0",
   "metadata": {},
   "outputs": [],
   "source": [
    "a = [ 1, 1, 1, 1 ]\n",
    "b = [ 0, 0, 1, 1 ]"
   ]
  },
  {
   "cell_type": "code",
   "execution_count": 89,
   "id": "a53e0bd5",
   "metadata": {},
   "outputs": [
    {
     "name": "stdout",
     "output_type": "stream",
     "text": [
      "[(0, 'a'), (1, 'b'), (2, 'c')]\n"
     ]
    }
   ],
   "source": [
    "items = ['a', 'b', 'c']\n",
    "result = list(map(lambda pair: (pair[0], pair[1]), enumerate(items)))\n",
    "print(result)  # [(0, 'a'), (1, 'b'), (2, 'c')]"
   ]
  },
  {
   "cell_type": "code",
   "execution_count": 95,
   "id": "efe766f0",
   "metadata": {},
   "outputs": [
    {
     "name": "stdout",
     "output_type": "stream",
     "text": [
      "2\n"
     ]
    }
   ],
   "source": [
    "thisisit = pipe(\n",
    "    b,\n",
    "    lambda x: map(int, x),\n",
    "    enumerate,\n",
    "    lambda en: [ x*a[i] for i, x in en ],\n",
    "    sum\n",
    ")\n",
    "if isinstance(thisisit, Iterable):\n",
    "    print(thisisit)\n",
    "    for i in thisisit: print(i)\n",
    "else: print(thisisit)"
   ]
  },
  {
   "cell_type": "code",
   "execution_count": 67,
   "id": "a6e69e03",
   "metadata": {},
   "outputs": [
    {
     "name": "stdout",
     "output_type": "stream",
     "text": [
      "0 0\n",
      "1 0\n",
      "2 1\n",
      "3 1\n"
     ]
    }
   ],
   "source": [
    "enum = pipe(\n",
    "    b,\n",
    "    lambda x: map(int, x),\n",
    "    enumerate,\n",
    ")\n",
    "for i in enum: print(*i)"
   ]
  },
  {
   "cell_type": "code",
   "execution_count": 2,
   "id": "ff683407",
   "metadata": {},
   "outputs": [
    {
     "data": {
      "text/plain": [
       "0.9002988225029293"
      ]
     },
     "execution_count": 2,
     "metadata": {},
     "output_type": "execute_result"
    }
   ],
   "source": [
    "random()"
   ]
  },
  {
   "cell_type": "code",
   "execution_count": 3,
   "id": "f1a07783",
   "metadata": {},
   "outputs": [
    {
     "data": {
      "text/plain": [
       "array([0. , 0.5, 1. ])"
      ]
     },
     "execution_count": 3,
     "metadata": {},
     "output_type": "execute_result"
    }
   ],
   "source": [
    "np.linspace(0, 1, 3)"
   ]
  },
  {
   "cell_type": "code",
   "execution_count": 4,
   "id": "f6cfddaf",
   "metadata": {},
   "outputs": [
    {
     "data": {
      "text/plain": [
       "[0, 1, 2]"
      ]
     },
     "execution_count": 4,
     "metadata": {},
     "output_type": "execute_result"
    }
   ],
   "source": [
    "[ i for i in range(3) ]"
   ]
  },
  {
   "cell_type": "code",
   "execution_count": 5,
   "id": "bcbf6d7e",
   "metadata": {},
   "outputs": [
    {
     "data": {
      "text/plain": [
       "<matplotlib.collections.PathCollection at 0x113131760>"
      ]
     },
     "execution_count": 5,
     "metadata": {},
     "output_type": "execute_result"
    },
    {
     "data": {
      "image/png": "[encoded data removed]",
      "text/plain": [
       "<Figure size 640x480 with 1 Axes>"
      ]
     },
     "metadata": {},
     "output_type": "display_data"
    }
   ],
   "source": [
    "plt.scatter(\n",
    "    np.linspace(0, 1, 200),\n",
    "    [ random() for _ in range(200) ]\n",
    ")"
   ]
  },
  {
   "cell_type": "code",
   "execution_count": 6,
   "id": "7a8b1818",
   "metadata": {},
   "outputs": [],
   "source": [
    "# \"\".join([ True, False ])"
   ]
  },
  {
   "cell_type": "code",
   "execution_count": 7,
   "id": "4edae5d7",
   "metadata": {},
   "outputs": [
    {
     "data": {
      "text/plain": [
       "[0, 1, 1, 0, 0, 0, 0, 1]"
      ]
     },
     "execution_count": 7,
     "metadata": {},
     "output_type": "execute_result"
    }
   ],
   "source": [
    "a = [ 0, 1, 1, 0, 0, 0, 0, 1 ]\n",
    "a"
   ]
  },
  {
   "cell_type": "code",
   "execution_count": 8,
   "id": "c821e411",
   "metadata": {},
   "outputs": [
    {
     "data": {
      "text/plain": [
       "array([0, 1, 1, 0, 0, 0, 0, 1])"
      ]
     },
     "execution_count": 8,
     "metadata": {},
     "output_type": "execute_result"
    }
   ],
   "source": [
    "a = np.array(a)\n",
    "a"
   ]
  },
  {
   "cell_type": "code",
   "execution_count": 9,
   "id": "84a7af74",
   "metadata": {},
   "outputs": [
    {
     "data": {
      "text/plain": [
       "array([1, 1, 1, 1, 1, 1, 1, 1])"
      ]
     },
     "execution_count": 9,
     "metadata": {},
     "output_type": "execute_result"
    }
   ],
   "source": [
    "b = np.array([ 1, 1, 1, 1, 1, 1, 1, 1 ])\n",
    "b"
   ]
  },
  {
   "cell_type": "code",
   "execution_count": 10,
   "id": "c3974afe",
   "metadata": {},
   "outputs": [
    {
     "data": {
      "text/plain": [
       "array([1, 2, 3, 4])"
      ]
     },
     "execution_count": 10,
     "metadata": {},
     "output_type": "execute_result"
    }
   ],
   "source": [
    "tests = np.array([ 1, 2, 3, 4, 5, 6, 7, 8 ])\n",
    "tests[0:int(len(tests)/2)]"
   ]
  },
  {
   "cell_type": "code",
   "execution_count": 11,
   "id": "c3ee75d6",
   "metadata": {},
   "outputs": [
    {
     "data": {
      "text/plain": [
       "array([5, 6, 7, 8])"
      ]
     },
     "execution_count": 11,
     "metadata": {},
     "output_type": "execute_result"
    }
   ],
   "source": [
    "tests[int(len(tests)/2):len(tests)]"
   ]
  },
  {
   "cell_type": "code",
   "execution_count": 12,
   "id": "5ab9ab61",
   "metadata": {},
   "outputs": [
    {
     "data": {
      "text/plain": [
       "array([1, 2, 3])"
      ]
     },
     "execution_count": 12,
     "metadata": {},
     "output_type": "execute_result"
    }
   ],
   "source": [
    "tests = np.array([ 1, 2, 3, 4, 5, 6, 7 ])\n",
    "tests[0:int(len(tests)/2)]"
   ]
  },
  {
   "cell_type": "code",
   "execution_count": 13,
   "id": "87bcf8cf",
   "metadata": {},
   "outputs": [
    {
     "data": {
      "text/plain": [
       "array([4, 5, 6, 7])"
      ]
     },
     "execution_count": 13,
     "metadata": {},
     "output_type": "execute_result"
    }
   ],
   "source": [
    "tests[int(len(tests)/2):len(tests)]"
   ]
  },
  {
   "cell_type": "code",
   "execution_count": 14,
   "id": "500764a3",
   "metadata": {},
   "outputs": [
    {
     "data": {
      "text/plain": [
       "[1, 2, 3, 4]"
      ]
     },
     "execution_count": 14,
     "metadata": {},
     "output_type": "execute_result"
    }
   ],
   "source": [
    "[ *np.array([ 1, 2 ]), *np.array([ 3, 4 ]) ]"
   ]
  },
  {
   "cell_type": "code",
   "execution_count": 15,
   "id": "f6b58249",
   "metadata": {},
   "outputs": [
    {
     "data": {
      "text/plain": [
       "1 1 1 1 1 1 1 1"
      ]
     },
     "execution_count": 15,
     "metadata": {},
     "output_type": "execute_result"
    }
   ],
   "source": [
    "a = Individual([ 1, 1, 1, 1, 1, 1, 1, 1 ])\n",
    "a"
   ]
  },
  {
   "cell_type": "code",
   "execution_count": 16,
   "id": "ab6df1e2",
   "metadata": {},
   "outputs": [
    {
     "data": {
      "text/plain": [
       "0 1 1 0 0 0 0 1"
      ]
     },
     "execution_count": 16,
     "metadata": {},
     "output_type": "execute_result"
    }
   ],
   "source": [
    "b = Individual([ 0, 1, 1, 0, 0, 0, 0, 1 ])\n",
    "b"
   ]
  },
  {
   "cell_type": "code",
   "execution_count": 17,
   "id": "1856ff3a",
   "metadata": {},
   "outputs": [
    {
     "data": {
      "text/plain": [
       "0 1 1 0 1 1 1 1"
      ]
     },
     "execution_count": 17,
     "metadata": {},
     "output_type": "execute_result"
    }
   ],
   "source": [
    "c = b.crossover(a)\n",
    "c"
   ]
  },
  {
   "cell_type": "code",
   "execution_count": 18,
   "id": "0d5cbda0",
   "metadata": {},
   "outputs": [
    {
     "name": "stdout",
     "output_type": "stream",
     "text": [
      "0 1 1 0 1 1 1 1\n",
      "0 1 1 1 1 1 1 1\n"
     ]
    }
   ],
   "source": [
    "print(c)\n",
    "print(c.mutating())"
   ]
  },
  {
   "cell_type": "code",
   "execution_count": null,
   "id": "27e53595",
   "metadata": {},
   "outputs": [],
   "source": []
  },
  {
   "cell_type": "code",
   "execution_count": null,
   "id": "30903d16",
   "metadata": {},
   "outputs": [],
   "source": []
  },
  {
   "cell_type": "code",
   "execution_count": null,
   "id": "a66f1d11",
   "metadata": {},
   "outputs": [],
   "source": []
  },
  {
   "cell_type": "code",
   "execution_count": 19,
   "id": "c148ec32",
   "metadata": {},
   "outputs": [],
   "source": [
    "pipeline = compose(\n",
    "    lambda x: map(int, x),  # Convert each element to int\n",
    "    list                    # Convert map object to list\n",
    ")"
   ]
  },
  {
   "cell_type": "code",
   "execution_count": 20,
   "id": "9028ab40",
   "metadata": {},
   "outputs": [
    {
     "name": "stdout",
     "output_type": "stream",
     "text": [
      "<map object at 0x1131c4700>\n"
     ]
    }
   ],
   "source": [
    "result = pipeline([True, False, True])\n",
    "print(result)  # Output: [1, 0, 1]"
   ]
  },
  {
   "cell_type": "code",
   "execution_count": 21,
   "id": "a1e7b044",
   "metadata": {},
   "outputs": [
    {
     "data": {
      "text/plain": [
       "[1, 0, 1]"
      ]
     },
     "execution_count": 21,
     "metadata": {},
     "output_type": "execute_result"
    }
   ],
   "source": [
    "pipe(\n",
    "    [True, False, True],\n",
    "    lambda x: map(int, x),\n",
    "    list\n",
    ")"
   ]
  },
  {
   "cell_type": "code",
   "execution_count": null,
   "id": "1ba6e3f8",
   "metadata": {},
   "outputs": [],
   "source": []
  }
 ],
 "metadata": {
  "kernelspec": {
   "display_name": "base",
   "language": "python",
   "name": "python3"
  },
  "language_info": {
   "codemirror_mode": {
    "name": "ipython",
    "version": 3
   },
   "file_extension": ".py",
   "mimetype": "text/x-python",
   "name": "python",
   "nbconvert_exporter": "python",
   "pygments_lexer": "ipython3",
   "version": "3.12.7"
  }
 },
 "nbformat": 4,
 "nbformat_minor": 5
}
