{
 "cells": [
  {
   "cell_type": "code",
   "execution_count": 1,
   "id": "626c0cf2",
   "metadata": {},
   "outputs": [],
   "source": [
    "from random import random\n",
    "import numpy as np\n",
    "import matplotlib.pyplot as plt\n",
    "from toolz import compose, pipe\n",
    "from collections.abc import Iterable\n",
    "\n",
    "from main import Individual"
   ]
  },
  {
   "cell_type": "code",
   "execution_count": 2,
   "id": "8b816b7b",
   "metadata": {},
   "outputs": [],
   "source": [
    "b = [ 504, 803, 667, 1103, 834, 585, 811, 856, 690, 832, 846, 813, 868, 793, 825, 1002, 860, 615, 540, 797, 616, 660, 707, 866, 647, 746, 1006, 608, 877, 900, 573, 788, 484, 853, 942, 630, 591, 630, 640, 1169, 932, 1034, 957, 798, 669, 625, 467, 1051, 552, 717, 654, 388, 559, 555, 1104, 783, 959, 668, 507, 855, 986, 831, 821, 825, 868, 852, 832, 828, 799, 686, 510, 671, 575, 740, 510, 675, 996, 636, 826, 1022, 1140, 654, 909, 799, 1162, 653, 814, 625, 599, 476, 767, 954, 906, 904, 649, 873, 565, 853, 1008, 632 ]\n",
    "w = [ 11927, 13727, 11551, 13056, 13460 ]"
   ]
  },
  {
   "cell_type": "code",
   "execution_count": 3,
   "id": "1ba6e3f8",
   "metadata": {},
   "outputs": [],
   "source": [
    "def gen_random_individual():\n",
    "    def random_fn():\n",
    "        r = random()\n",
    "        return True if r > 0.5 else False\n",
    "    \n",
    "    return Individual(list(map(lambda x: random_fn(), range(0, 100))))"
   ]
  },
  {
   "cell_type": "code",
   "execution_count": 4,
   "id": "6ace72a9",
   "metadata": {},
   "outputs": [
    {
     "data": {
      "text/plain": [
       "0 0 1 1 0 1 0 1 1 0 1 1 0 1 1 0 0 1 0 1 1 0 1 0 1 0 0 0 1 0 1 0 0 0 1 0 0 0 0 0 1 0 1 0 0 0 0 1 0 0 1 0 1 0 1 1 0 0 1 0 0 0 1 0 0 1 1 0 1 1 1 0 1 0 1 1 1 1 1 1 1 0 0 1 1 0 1 0 0 0 0 0 1 0 0 0 0 1 0 0"
      ]
     },
     "execution_count": 4,
     "metadata": {},
     "output_type": "execute_result"
    }
   ],
   "source": [
    "a = gen_random_individual()\n",
    "a"
   ]
  },
  {
   "cell_type": "code",
   "execution_count": 5,
   "id": "0a495197",
   "metadata": {},
   "outputs": [
    {
     "data": {
      "text/plain": [
       "34913"
      ]
     },
     "execution_count": 5,
     "metadata": {},
     "output_type": "execute_result"
    }
   ],
   "source": [
    "a.fitness(b)"
   ]
  },
  {
   "cell_type": "code",
   "execution_count": 37,
   "id": "4daae7ca",
   "metadata": {},
   "outputs": [
    {
     "data": {
      "text/plain": [
       "100"
      ]
     },
     "execution_count": 37,
     "metadata": {},
     "output_type": "execute_result"
    }
   ],
   "source": [
    "len(a.gens)"
   ]
  },
  {
   "cell_type": "code",
   "execution_count": 38,
   "id": "f677d2bd",
   "metadata": {},
   "outputs": [
    {
     "data": {
      "text/plain": [
       "100"
      ]
     },
     "execution_count": 38,
     "metadata": {},
     "output_type": "execute_result"
    }
   ],
   "source": [
    "len(b)"
   ]
  },
  {
   "cell_type": "code",
   "execution_count": null,
   "id": "2aaf1a09",
   "metadata": {},
   "outputs": [],
   "source": []
  }
 ],
 "metadata": {
  "kernelspec": {
   "display_name": "base",
   "language": "python",
   "name": "python3"
  },
  "language_info": {
   "codemirror_mode": {
    "name": "ipython",
    "version": 3
   },
   "file_extension": ".py",
   "mimetype": "text/x-python",
   "name": "python",
   "nbconvert_exporter": "python",
   "pygments_lexer": "ipython3",
   "version": "3.12.7"
  }
 },
 "nbformat": 4,
 "nbformat_minor": 5
}
