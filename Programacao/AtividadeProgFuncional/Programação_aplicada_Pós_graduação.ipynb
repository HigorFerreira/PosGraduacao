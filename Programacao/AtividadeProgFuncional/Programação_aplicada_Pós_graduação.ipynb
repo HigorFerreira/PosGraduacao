{
  "cells": [
    {
      "cell_type": "code",
      "execution_count": 1,
      "metadata": {},
      "outputs": [],
      "source": [
        "from Btree import BinaryTree, Node\n",
        "\n",
        "tree = BinaryTree()\n",
        "arr = [ 5, 2, 6, 10, 1, 3, 4 ]\n",
        "\n",
        "for i in arr:\n",
        "    tree.insert(Node(i))"
      ]
    },
    {
      "cell_type": "code",
      "execution_count": 2,
      "metadata": {},
      "outputs": [
        {
          "name": "stdout",
          "output_type": "stream",
          "text": [
            "N -> None    A -> None\n",
            "N -> Node(5)    A -> None\n",
            "N -> Node(2)    A -> None\n",
            "N -> Node(1)    A -> None\n",
            "N -> None    A -> Node(1)\n",
            "Node(1)\n",
            "N -> None    A -> Node(2)\n",
            "Node(2)\n"
          ]
        }
      ],
      "source": [
        "tree.dfs()"
      ]
    },
    {
      "cell_type": "markdown",
      "metadata": {
        "id": "W4vp9EVuXH-D"
      },
      "source": [
        "# Listas e dicionários"
      ]
    },
    {
      "cell_type": "markdown",
      "metadata": {
        "id": "KCxQhdJcXRlW"
      },
      "source": [
        "## Lista de 1 a 10"
      ]
    },
    {
      "cell_type": "markdown",
      "metadata": {
        "id": "YaC6-zFMgtbO"
      },
      "source": [
        "### Paradigma estruturado/sequencial"
      ]
    },
    {
      "cell_type": "code",
      "execution_count": 89,
      "metadata": {
        "id": "anJYgZv1W8M7"
      },
      "outputs": [],
      "source": [
        "lista = []\n",
        "for i in range(1, 11):\n",
        "  lista.append(i)"
      ]
    },
    {
      "cell_type": "code",
      "execution_count": 90,
      "metadata": {
        "colab": {
          "base_uri": "https://localhost:8080/"
        },
        "id": "PDlz2MmIZIdN",
        "outputId": "7c2cae26-113d-4451-fa4b-3bceed7e938b"
      },
      "outputs": [
        {
          "data": {
            "text/plain": [
              "[1, 2, 3, 4, 5, 6, 7, 8, 9, 10]"
            ]
          },
          "execution_count": 90,
          "metadata": {},
          "output_type": "execute_result"
        }
      ],
      "source": [
        "lista"
      ]
    },
    {
      "cell_type": "markdown",
      "metadata": {
        "id": "xAhVmnHhXssw"
      },
      "source": [
        "### List comprehensions (funcional)"
      ]
    },
    {
      "cell_type": "code",
      "execution_count": 91,
      "metadata": {
        "id": "ROIW3CzdXiWY"
      },
      "outputs": [],
      "source": [
        "lista = [i for i in range(1, 11)]"
      ]
    },
    {
      "cell_type": "code",
      "execution_count": 92,
      "metadata": {
        "colab": {
          "base_uri": "https://localhost:8080/"
        },
        "id": "eLhl92T7ZKIj",
        "outputId": "434625aa-fa01-49a9-98e4-3d7e9669ca37"
      },
      "outputs": [
        {
          "data": {
            "text/plain": [
              "[1, 2, 3, 4, 5, 6, 7, 8, 9, 10]"
            ]
          },
          "execution_count": 92,
          "metadata": {},
          "output_type": "execute_result"
        }
      ],
      "source": [
        "lista"
      ]
    },
    {
      "cell_type": "markdown",
      "metadata": {
        "id": "TUJUKv0Rg-7x"
      },
      "source": [
        "## Contagem de vogais"
      ]
    },
    {
      "cell_type": "markdown",
      "metadata": {},
      "source": [
        "### Dados iniciais"
      ]
    },
    {
      "cell_type": "code",
      "execution_count": 93,
      "metadata": {},
      "outputs": [],
      "source": [
        "from my_utils import print_dict\n",
        "lista_de_palavras = [ \"Python\", \"é\", \"uma\", \"ótima\", \"linguagem\" ]"
      ]
    },
    {
      "cell_type": "code",
      "execution_count": 94,
      "metadata": {},
      "outputs": [
        {
          "data": {
            "text/plain": [
              "['Python', 'é', 'uma', 'ótima', 'linguagem']"
            ]
          },
          "execution_count": 94,
          "metadata": {},
          "output_type": "execute_result"
        }
      ],
      "source": [
        "lista_de_palavras"
      ]
    },
    {
      "cell_type": "markdown",
      "metadata": {
        "id": "Nq-e728KhUSm"
      },
      "source": [
        "### Estruturado/sequencial"
      ]
    },
    {
      "cell_type": "code",
      "execution_count": 95,
      "metadata": {
        "colab": {
          "base_uri": "https://localhost:8080/"
        },
        "id": "hWZ_MII1hau4",
        "outputId": "868e707c-d8fe-448e-d971-8edf5d4d64c5"
      },
      "outputs": [
        {
          "name": "stdout",
          "output_type": "stream",
          "text": [
            "Python ==> Tem 1 vogais\n",
            "é ==> Tem 1 vogais\n",
            "uma ==> Tem 2 vogais\n",
            "ótima ==> Tem 3 vogais\n",
            "linguagem ==> Tem 4 vogais\n"
          ]
        }
      ],
      "source": [
        "\n",
        "for palavra in lista_de_palavras:\n",
        "  vogais = 0\n",
        "  for letra in palavra:\n",
        "    if letra in \"aeiouáéíóúãõâêô\":\n",
        "      vogais += 1\n",
        "  print(f'{palavra} ==> Tem {vogais} vogais')"
      ]
    },
    {
      "cell_type": "markdown",
      "metadata": {
        "id": "lH8w64g1ievu"
      },
      "source": [
        "### Dict comprehensions (funcional)"
      ]
    },
    {
      "cell_type": "code",
      "execution_count": 96,
      "metadata": {},
      "outputs": [
        {
          "data": {
            "text/plain": [
              "['Python', 'é', 'uma', 'ótima', 'linguagem']"
            ]
          },
          "execution_count": 96,
          "metadata": {},
          "output_type": "execute_result"
        }
      ],
      "source": [
        "lista_de_palavras"
      ]
    },
    {
      "cell_type": "code",
      "execution_count": 97,
      "metadata": {},
      "outputs": [
        {
          "data": {
            "text/plain": [
              "{'Python': 6, 'é': 1, 'uma': 3, 'ótima': 5, 'linguagem': 9}"
            ]
          },
          "execution_count": 97,
          "metadata": {},
          "output_type": "execute_result"
        }
      ],
      "source": [
        "{ palavra: len(palavra) for palavra in lista_de_palavras }"
      ]
    },
    {
      "cell_type": "code",
      "execution_count": 98,
      "metadata": {},
      "outputs": [
        {
          "data": {
            "text/plain": [
              "3"
            ]
          },
          "execution_count": 98,
          "metadata": {},
          "output_type": "execute_result"
        }
      ],
      "source": [
        "sum([1 for letra in 'banana' if letra in \"aeiouáéíóúãõâêô\"])"
      ]
    },
    {
      "cell_type": "code",
      "execution_count": 99,
      "metadata": {},
      "outputs": [
        {
          "data": {
            "text/plain": [
              "2"
            ]
          },
          "execution_count": 99,
          "metadata": {},
          "output_type": "execute_result"
        }
      ],
      "source": [
        "sum([1, 1 ])"
      ]
    },
    {
      "cell_type": "code",
      "execution_count": 100,
      "metadata": {},
      "outputs": [
        {
          "name": "stdout",
          "output_type": "stream",
          "text": [
            "Python ==> Tem 1 vogais\n",
            "é ==> Tem 1 vogais\n",
            "uma ==> Tem 2 vogais\n",
            "ótima ==> Tem 3 vogais\n",
            "linguagem ==> Tem 4 vogais\n"
          ]
        }
      ],
      "source": [
        "a = { palavra: sum([1 for letra in palavra if letra in \"aeiouáéíóúãõâêô\"]) for palavra in lista_de_palavras }\n",
        "for key, value in a.items(): print(f\"{key} ==> Tem {value} vogais\")"
      ]
    },
    {
      "cell_type": "code",
      "execution_count": 101,
      "metadata": {
        "id": "13cJGVZZieSy"
      },
      "outputs": [
        {
          "name": "stdout",
          "output_type": "stream",
          "text": [
            "Python ==> Tem 1 vogais\n",
            "é ==> Tem 1 vogais\n",
            "uma ==> Tem 2 vogais\n",
            "ótima ==> Tem 3 vogais\n",
            "linguagem ==> Tem 4 vogais\n"
          ]
        }
      ],
      "source": [
        "@print_dict(lambda palavra, vogais: f\"{palavra} ==> Tem {vogais} vogais\")\n",
        "def get_dict(): return { palavra: sum([1 for letra in palavra if letra in \"aeiouáéíóúãõâêô\"]) for palavra in lista_de_palavras }"
      ]
    },
    {
      "cell_type": "code",
      "execution_count": 102,
      "metadata": {},
      "outputs": [
        {
          "name": "stdout",
          "output_type": "stream",
          "text": [
            "Pessoa0 ==> 0\n",
            "Pessoa1 ==> 1\n",
            "Pessoa2 ==> 2\n",
            "Pessoa3 ==> 3\n",
            "Pessoa4 ==> 4\n",
            "Pessoa5 ==> 5\n",
            "Pessoa6 ==> 6\n",
            "Pessoa7 ==> 7\n",
            "Pessoa8 ==> 8\n",
            "Pessoa9 ==> 9\n",
            "Pessoa10 ==> 10\n",
            "Pessoa11 ==> 11\n",
            "Pessoa12 ==> 12\n",
            "Pessoa13 ==> 13\n",
            "Pessoa14 ==> 14\n",
            "Pessoa15 ==> 15\n",
            "Pessoa16 ==> 16\n",
            "Pessoa17 ==> 17\n",
            "Pessoa18 ==> 18\n",
            "Pessoa19 ==> 19\n",
            "Pessoa20 ==> 20\n",
            "Pessoa21 ==> 21\n",
            "Pessoa22 ==> 22\n",
            "Pessoa23 ==> 23\n",
            "Pessoa24 ==> 24\n",
            "Pessoa25 ==> 25\n",
            "Pessoa26 ==> 26\n",
            "Pessoa27 ==> 27\n",
            "Pessoa28 ==> 28\n",
            "Pessoa29 ==> 29\n",
            "Pessoa30 ==> 30\n",
            "Pessoa31 ==> 31\n",
            "Pessoa32 ==> 32\n",
            "Pessoa33 ==> 33\n",
            "Pessoa34 ==> 34\n",
            "Pessoa35 ==> 35\n",
            "Pessoa36 ==> 36\n",
            "Pessoa37 ==> 37\n",
            "Pessoa38 ==> 38\n",
            "Pessoa39 ==> 39\n",
            "Pessoa40 ==> 40\n",
            "Pessoa41 ==> 41\n",
            "Pessoa42 ==> 42\n",
            "Pessoa43 ==> 43\n",
            "Pessoa44 ==> 44\n",
            "Pessoa45 ==> 45\n",
            "Pessoa46 ==> 46\n",
            "Pessoa47 ==> 47\n",
            "Pessoa48 ==> 48\n",
            "Pessoa49 ==> 49\n",
            "Pessoa50 ==> 50\n",
            "Pessoa51 ==> 51\n",
            "Pessoa52 ==> 52\n",
            "Pessoa53 ==> 53\n",
            "Pessoa54 ==> 54\n",
            "Pessoa55 ==> 55\n",
            "Pessoa56 ==> 56\n",
            "Pessoa57 ==> 57\n",
            "Pessoa58 ==> 58\n",
            "Pessoa59 ==> 59\n",
            "Pessoa60 ==> 60\n",
            "Pessoa61 ==> 61\n",
            "Pessoa62 ==> 62\n",
            "Pessoa63 ==> 63\n",
            "Pessoa64 ==> 64\n",
            "Pessoa65 ==> 65\n",
            "Pessoa66 ==> 66\n",
            "Pessoa67 ==> 67\n",
            "Pessoa68 ==> 68\n",
            "Pessoa69 ==> 69\n",
            "Pessoa70 ==> 70\n",
            "Pessoa71 ==> 71\n",
            "Pessoa72 ==> 72\n",
            "Pessoa73 ==> 73\n",
            "Pessoa74 ==> 74\n",
            "Pessoa75 ==> 75\n",
            "Pessoa76 ==> 76\n",
            "Pessoa77 ==> 77\n",
            "Pessoa78 ==> 78\n",
            "Pessoa79 ==> 79\n",
            "Pessoa80 ==> 80\n",
            "Pessoa81 ==> 81\n",
            "Pessoa82 ==> 82\n",
            "Pessoa83 ==> 83\n",
            "Pessoa84 ==> 84\n",
            "Pessoa85 ==> 85\n",
            "Pessoa86 ==> 86\n",
            "Pessoa87 ==> 87\n",
            "Pessoa88 ==> 88\n",
            "Pessoa89 ==> 89\n",
            "Pessoa90 ==> 90\n",
            "Pessoa91 ==> 91\n",
            "Pessoa92 ==> 92\n",
            "Pessoa93 ==> 93\n",
            "Pessoa94 ==> 94\n",
            "Pessoa95 ==> 95\n",
            "Pessoa96 ==> 96\n",
            "Pessoa97 ==> 97\n",
            "Pessoa98 ==> 98\n",
            "Pessoa99 ==> 99\n",
            "Pessoa100 ==> 100\n",
            "Pessoa101 ==> 101\n",
            "Pessoa102 ==> 102\n",
            "Pessoa103 ==> 103\n",
            "Pessoa104 ==> 104\n",
            "Pessoa105 ==> 105\n",
            "Pessoa106 ==> 106\n",
            "Pessoa107 ==> 107\n",
            "Pessoa108 ==> 108\n",
            "Pessoa109 ==> 109\n",
            "Pessoa110 ==> 110\n",
            "Pessoa111 ==> 111\n",
            "Pessoa112 ==> 112\n",
            "Pessoa113 ==> 113\n",
            "Pessoa114 ==> 114\n",
            "Pessoa115 ==> 115\n",
            "Pessoa116 ==> 116\n",
            "Pessoa117 ==> 117\n",
            "Pessoa118 ==> 118\n",
            "Pessoa119 ==> 119\n",
            "Pessoa120 ==> 120\n",
            "Pessoa121 ==> 121\n",
            "Pessoa122 ==> 122\n",
            "Pessoa123 ==> 123\n",
            "Pessoa124 ==> 124\n",
            "Pessoa125 ==> 125\n",
            "Pessoa126 ==> 126\n",
            "Pessoa127 ==> 127\n",
            "Pessoa128 ==> 128\n",
            "Pessoa129 ==> 129\n",
            "Pessoa130 ==> 130\n",
            "Pessoa131 ==> 131\n",
            "Pessoa132 ==> 132\n",
            "Pessoa133 ==> 133\n",
            "Pessoa134 ==> 134\n",
            "Pessoa135 ==> 135\n",
            "Pessoa136 ==> 136\n",
            "Pessoa137 ==> 137\n",
            "Pessoa138 ==> 138\n",
            "Pessoa139 ==> 139\n",
            "Pessoa140 ==> 140\n",
            "Pessoa141 ==> 141\n",
            "Pessoa142 ==> 142\n",
            "Pessoa143 ==> 143\n",
            "Pessoa144 ==> 144\n",
            "Pessoa145 ==> 145\n",
            "Pessoa146 ==> 146\n",
            "Pessoa147 ==> 147\n",
            "Pessoa148 ==> 148\n",
            "Pessoa149 ==> 149\n",
            "Pessoa150 ==> 150\n",
            "Pessoa151 ==> 151\n",
            "Pessoa152 ==> 152\n",
            "Pessoa153 ==> 153\n",
            "Pessoa154 ==> 154\n",
            "Pessoa155 ==> 155\n",
            "Pessoa156 ==> 156\n",
            "Pessoa157 ==> 157\n",
            "Pessoa158 ==> 158\n",
            "Pessoa159 ==> 159\n",
            "Pessoa160 ==> 160\n",
            "Pessoa161 ==> 161\n",
            "Pessoa162 ==> 162\n",
            "Pessoa163 ==> 163\n",
            "Pessoa164 ==> 164\n",
            "Pessoa165 ==> 165\n",
            "Pessoa166 ==> 166\n",
            "Pessoa167 ==> 167\n",
            "Pessoa168 ==> 168\n",
            "Pessoa169 ==> 169\n",
            "Pessoa170 ==> 170\n",
            "Pessoa171 ==> 171\n",
            "Pessoa172 ==> 172\n",
            "Pessoa173 ==> 173\n",
            "Pessoa174 ==> 174\n",
            "Pessoa175 ==> 175\n",
            "Pessoa176 ==> 176\n",
            "Pessoa177 ==> 177\n",
            "Pessoa178 ==> 178\n",
            "Pessoa179 ==> 179\n",
            "Pessoa180 ==> 180\n",
            "Pessoa181 ==> 181\n",
            "Pessoa182 ==> 182\n",
            "Pessoa183 ==> 183\n",
            "Pessoa184 ==> 184\n",
            "Pessoa185 ==> 185\n",
            "Pessoa186 ==> 186\n",
            "Pessoa187 ==> 187\n",
            "Pessoa188 ==> 188\n",
            "Pessoa189 ==> 189\n",
            "Pessoa190 ==> 190\n",
            "Pessoa191 ==> 191\n",
            "Pessoa192 ==> 192\n",
            "Pessoa193 ==> 193\n",
            "Pessoa194 ==> 194\n",
            "Pessoa195 ==> 195\n",
            "Pessoa196 ==> 196\n",
            "Pessoa197 ==> 197\n",
            "Pessoa198 ==> 198\n",
            "Pessoa199 ==> 199\n",
            "Pessoa200 ==> 200\n",
            "Pessoa201 ==> 201\n",
            "Pessoa202 ==> 202\n",
            "Pessoa203 ==> 203\n",
            "Pessoa204 ==> 204\n",
            "Pessoa205 ==> 205\n",
            "Pessoa206 ==> 206\n",
            "Pessoa207 ==> 207\n",
            "Pessoa208 ==> 208\n",
            "Pessoa209 ==> 209\n",
            "Pessoa210 ==> 210\n",
            "Pessoa211 ==> 211\n",
            "Pessoa212 ==> 212\n",
            "Pessoa213 ==> 213\n",
            "Pessoa214 ==> 214\n",
            "Pessoa215 ==> 215\n",
            "Pessoa216 ==> 216\n",
            "Pessoa217 ==> 217\n",
            "Pessoa218 ==> 218\n",
            "Pessoa219 ==> 219\n",
            "Pessoa220 ==> 220\n",
            "Pessoa221 ==> 221\n",
            "Pessoa222 ==> 222\n",
            "Pessoa223 ==> 223\n",
            "Pessoa224 ==> 224\n",
            "Pessoa225 ==> 225\n",
            "Pessoa226 ==> 226\n",
            "Pessoa227 ==> 227\n",
            "Pessoa228 ==> 228\n",
            "Pessoa229 ==> 229\n",
            "Pessoa230 ==> 230\n",
            "Pessoa231 ==> 231\n",
            "Pessoa232 ==> 232\n",
            "Pessoa233 ==> 233\n",
            "Pessoa234 ==> 234\n",
            "Pessoa235 ==> 235\n",
            "Pessoa236 ==> 236\n",
            "Pessoa237 ==> 237\n",
            "Pessoa238 ==> 238\n",
            "Pessoa239 ==> 239\n",
            "Pessoa240 ==> 240\n",
            "Pessoa241 ==> 241\n",
            "Pessoa242 ==> 242\n",
            "Pessoa243 ==> 243\n",
            "Pessoa244 ==> 244\n",
            "Pessoa245 ==> 245\n",
            "Pessoa246 ==> 246\n",
            "Pessoa247 ==> 247\n",
            "Pessoa248 ==> 248\n",
            "Pessoa249 ==> 249\n",
            "Pessoa250 ==> 250\n",
            "Pessoa251 ==> 251\n",
            "Pessoa252 ==> 252\n",
            "Pessoa253 ==> 253\n",
            "Pessoa254 ==> 254\n",
            "Pessoa255 ==> 255\n",
            "Pessoa256 ==> 256\n",
            "Pessoa257 ==> 257\n",
            "Pessoa258 ==> 258\n",
            "Pessoa259 ==> 259\n",
            "Pessoa260 ==> 260\n",
            "Pessoa261 ==> 261\n",
            "Pessoa262 ==> 262\n",
            "Pessoa263 ==> 263\n",
            "Pessoa264 ==> 264\n",
            "Pessoa265 ==> 265\n",
            "Pessoa266 ==> 266\n",
            "Pessoa267 ==> 267\n",
            "Pessoa268 ==> 268\n",
            "Pessoa269 ==> 269\n",
            "Pessoa270 ==> 270\n",
            "Pessoa271 ==> 271\n",
            "Pessoa272 ==> 272\n",
            "Pessoa273 ==> 273\n",
            "Pessoa274 ==> 274\n",
            "Pessoa275 ==> 275\n",
            "Pessoa276 ==> 276\n",
            "Pessoa277 ==> 277\n",
            "Pessoa278 ==> 278\n",
            "Pessoa279 ==> 279\n",
            "Pessoa280 ==> 280\n",
            "Pessoa281 ==> 281\n",
            "Pessoa282 ==> 282\n",
            "Pessoa283 ==> 283\n",
            "Pessoa284 ==> 284\n",
            "Pessoa285 ==> 285\n",
            "Pessoa286 ==> 286\n",
            "Pessoa287 ==> 287\n",
            "Pessoa288 ==> 288\n",
            "Pessoa289 ==> 289\n",
            "Pessoa290 ==> 290\n",
            "Pessoa291 ==> 291\n",
            "Pessoa292 ==> 292\n",
            "Pessoa293 ==> 293\n",
            "Pessoa294 ==> 294\n",
            "Pessoa295 ==> 295\n",
            "Pessoa296 ==> 296\n",
            "Pessoa297 ==> 297\n",
            "Pessoa298 ==> 298\n",
            "Pessoa299 ==> 299\n",
            "Pessoa300 ==> 300\n",
            "Pessoa301 ==> 301\n",
            "Pessoa302 ==> 302\n",
            "Pessoa303 ==> 303\n",
            "Pessoa304 ==> 304\n",
            "Pessoa305 ==> 305\n",
            "Pessoa306 ==> 306\n",
            "Pessoa307 ==> 307\n",
            "Pessoa308 ==> 308\n",
            "Pessoa309 ==> 309\n",
            "Pessoa310 ==> 310\n",
            "Pessoa311 ==> 311\n",
            "Pessoa312 ==> 312\n",
            "Pessoa313 ==> 313\n",
            "Pessoa314 ==> 314\n",
            "Pessoa315 ==> 315\n",
            "Pessoa316 ==> 316\n",
            "Pessoa317 ==> 317\n",
            "Pessoa318 ==> 318\n",
            "Pessoa319 ==> 319\n",
            "Pessoa320 ==> 320\n",
            "Pessoa321 ==> 321\n",
            "Pessoa322 ==> 322\n",
            "Pessoa323 ==> 323\n",
            "Pessoa324 ==> 324\n",
            "Pessoa325 ==> 325\n",
            "Pessoa326 ==> 326\n",
            "Pessoa327 ==> 327\n",
            "Pessoa328 ==> 328\n",
            "Pessoa329 ==> 329\n",
            "Pessoa330 ==> 330\n",
            "Pessoa331 ==> 331\n",
            "Pessoa332 ==> 332\n",
            "Pessoa333 ==> 333\n",
            "Pessoa334 ==> 334\n",
            "Pessoa335 ==> 335\n",
            "Pessoa336 ==> 336\n",
            "Pessoa337 ==> 337\n",
            "Pessoa338 ==> 338\n",
            "Pessoa339 ==> 339\n",
            "Pessoa340 ==> 340\n",
            "Pessoa341 ==> 341\n",
            "Pessoa342 ==> 342\n",
            "Pessoa343 ==> 343\n",
            "Pessoa344 ==> 344\n",
            "Pessoa345 ==> 345\n",
            "Pessoa346 ==> 346\n",
            "Pessoa347 ==> 347\n",
            "Pessoa348 ==> 348\n",
            "Pessoa349 ==> 349\n",
            "Pessoa350 ==> 350\n",
            "Pessoa351 ==> 351\n",
            "Pessoa352 ==> 352\n",
            "Pessoa353 ==> 353\n",
            "Pessoa354 ==> 354\n",
            "Pessoa355 ==> 355\n",
            "Pessoa356 ==> 356\n",
            "Pessoa357 ==> 357\n",
            "Pessoa358 ==> 358\n",
            "Pessoa359 ==> 359\n",
            "Pessoa360 ==> 360\n",
            "Pessoa361 ==> 361\n",
            "Pessoa362 ==> 362\n",
            "Pessoa363 ==> 363\n",
            "Pessoa364 ==> 364\n",
            "Pessoa365 ==> 365\n",
            "Pessoa366 ==> 366\n",
            "Pessoa367 ==> 367\n",
            "Pessoa368 ==> 368\n",
            "Pessoa369 ==> 369\n",
            "Pessoa370 ==> 370\n",
            "Pessoa371 ==> 371\n",
            "Pessoa372 ==> 372\n",
            "Pessoa373 ==> 373\n",
            "Pessoa374 ==> 374\n",
            "Pessoa375 ==> 375\n",
            "Pessoa376 ==> 376\n",
            "Pessoa377 ==> 377\n",
            "Pessoa378 ==> 378\n",
            "Pessoa379 ==> 379\n",
            "Pessoa380 ==> 380\n",
            "Pessoa381 ==> 381\n",
            "Pessoa382 ==> 382\n",
            "Pessoa383 ==> 383\n",
            "Pessoa384 ==> 384\n",
            "Pessoa385 ==> 385\n",
            "Pessoa386 ==> 386\n",
            "Pessoa387 ==> 387\n",
            "Pessoa388 ==> 388\n",
            "Pessoa389 ==> 389\n",
            "Pessoa390 ==> 390\n",
            "Pessoa391 ==> 391\n",
            "Pessoa392 ==> 392\n",
            "Pessoa393 ==> 393\n",
            "Pessoa394 ==> 394\n",
            "Pessoa395 ==> 395\n",
            "Pessoa396 ==> 396\n",
            "Pessoa397 ==> 397\n",
            "Pessoa398 ==> 398\n",
            "Pessoa399 ==> 399\n",
            "Pessoa400 ==> 400\n",
            "Pessoa401 ==> 401\n",
            "Pessoa402 ==> 402\n",
            "Pessoa403 ==> 403\n",
            "Pessoa404 ==> 404\n",
            "Pessoa405 ==> 405\n",
            "Pessoa406 ==> 406\n",
            "Pessoa407 ==> 407\n",
            "Pessoa408 ==> 408\n",
            "Pessoa409 ==> 409\n",
            "Pessoa410 ==> 410\n",
            "Pessoa411 ==> 411\n",
            "Pessoa412 ==> 412\n",
            "Pessoa413 ==> 413\n",
            "Pessoa414 ==> 414\n",
            "Pessoa415 ==> 415\n",
            "Pessoa416 ==> 416\n",
            "Pessoa417 ==> 417\n",
            "Pessoa418 ==> 418\n",
            "Pessoa419 ==> 419\n",
            "Pessoa420 ==> 420\n",
            "Pessoa421 ==> 421\n",
            "Pessoa422 ==> 422\n",
            "Pessoa423 ==> 423\n",
            "Pessoa424 ==> 424\n",
            "Pessoa425 ==> 425\n",
            "Pessoa426 ==> 426\n",
            "Pessoa427 ==> 427\n",
            "Pessoa428 ==> 428\n",
            "Pessoa429 ==> 429\n",
            "Pessoa430 ==> 430\n",
            "Pessoa431 ==> 431\n",
            "Pessoa432 ==> 432\n",
            "Pessoa433 ==> 433\n",
            "Pessoa434 ==> 434\n",
            "Pessoa435 ==> 435\n",
            "Pessoa436 ==> 436\n",
            "Pessoa437 ==> 437\n",
            "Pessoa438 ==> 438\n",
            "Pessoa439 ==> 439\n",
            "Pessoa440 ==> 440\n",
            "Pessoa441 ==> 441\n",
            "Pessoa442 ==> 442\n",
            "Pessoa443 ==> 443\n",
            "Pessoa444 ==> 444\n",
            "Pessoa445 ==> 445\n",
            "Pessoa446 ==> 446\n",
            "Pessoa447 ==> 447\n",
            "Pessoa448 ==> 448\n",
            "Pessoa449 ==> 449\n",
            "Pessoa450 ==> 450\n",
            "Pessoa451 ==> 451\n",
            "Pessoa452 ==> 452\n",
            "Pessoa453 ==> 453\n",
            "Pessoa454 ==> 454\n",
            "Pessoa455 ==> 455\n",
            "Pessoa456 ==> 456\n",
            "Pessoa457 ==> 457\n",
            "Pessoa458 ==> 458\n",
            "Pessoa459 ==> 459\n",
            "Pessoa460 ==> 460\n",
            "Pessoa461 ==> 461\n",
            "Pessoa462 ==> 462\n",
            "Pessoa463 ==> 463\n",
            "Pessoa464 ==> 464\n",
            "Pessoa465 ==> 465\n",
            "Pessoa466 ==> 466\n",
            "Pessoa467 ==> 467\n",
            "Pessoa468 ==> 468\n",
            "Pessoa469 ==> 469\n",
            "Pessoa470 ==> 470\n",
            "Pessoa471 ==> 471\n",
            "Pessoa472 ==> 472\n",
            "Pessoa473 ==> 473\n",
            "Pessoa474 ==> 474\n",
            "Pessoa475 ==> 475\n",
            "Pessoa476 ==> 476\n",
            "Pessoa477 ==> 477\n",
            "Pessoa478 ==> 478\n",
            "Pessoa479 ==> 479\n",
            "Pessoa480 ==> 480\n",
            "Pessoa481 ==> 481\n",
            "Pessoa482 ==> 482\n",
            "Pessoa483 ==> 483\n",
            "Pessoa484 ==> 484\n",
            "Pessoa485 ==> 485\n",
            "Pessoa486 ==> 486\n",
            "Pessoa487 ==> 487\n",
            "Pessoa488 ==> 488\n",
            "Pessoa489 ==> 489\n",
            "Pessoa490 ==> 490\n",
            "Pessoa491 ==> 491\n",
            "Pessoa492 ==> 492\n",
            "Pessoa493 ==> 493\n",
            "Pessoa494 ==> 494\n",
            "Pessoa495 ==> 495\n",
            "Pessoa496 ==> 496\n",
            "Pessoa497 ==> 497\n",
            "Pessoa498 ==> 498\n",
            "Pessoa499 ==> 499\n",
            "Pessoa500 ==> 500\n",
            "Pessoa501 ==> 501\n",
            "Pessoa502 ==> 502\n",
            "Pessoa503 ==> 503\n",
            "Pessoa504 ==> 504\n",
            "Pessoa505 ==> 505\n",
            "Pessoa506 ==> 506\n",
            "Pessoa507 ==> 507\n",
            "Pessoa508 ==> 508\n",
            "Pessoa509 ==> 509\n",
            "Pessoa510 ==> 510\n",
            "Pessoa511 ==> 511\n",
            "Pessoa512 ==> 512\n",
            "Pessoa513 ==> 513\n",
            "Pessoa514 ==> 514\n",
            "Pessoa515 ==> 515\n",
            "Pessoa516 ==> 516\n",
            "Pessoa517 ==> 517\n",
            "Pessoa518 ==> 518\n",
            "Pessoa519 ==> 519\n",
            "Pessoa520 ==> 520\n",
            "Pessoa521 ==> 521\n",
            "Pessoa522 ==> 522\n",
            "Pessoa523 ==> 523\n",
            "Pessoa524 ==> 524\n",
            "Pessoa525 ==> 525\n",
            "Pessoa526 ==> 526\n",
            "Pessoa527 ==> 527\n",
            "Pessoa528 ==> 528\n",
            "Pessoa529 ==> 529\n",
            "Pessoa530 ==> 530\n",
            "Pessoa531 ==> 531\n",
            "Pessoa532 ==> 532\n",
            "Pessoa533 ==> 533\n",
            "Pessoa534 ==> 534\n",
            "Pessoa535 ==> 535\n",
            "Pessoa536 ==> 536\n",
            "Pessoa537 ==> 537\n",
            "Pessoa538 ==> 538\n",
            "Pessoa539 ==> 539\n",
            "Pessoa540 ==> 540\n",
            "Pessoa541 ==> 541\n",
            "Pessoa542 ==> 542\n",
            "Pessoa543 ==> 543\n",
            "Pessoa544 ==> 544\n",
            "Pessoa545 ==> 545\n",
            "Pessoa546 ==> 546\n",
            "Pessoa547 ==> 547\n",
            "Pessoa548 ==> 548\n",
            "Pessoa549 ==> 549\n",
            "Pessoa550 ==> 550\n",
            "Pessoa551 ==> 551\n",
            "Pessoa552 ==> 552\n",
            "Pessoa553 ==> 553\n",
            "Pessoa554 ==> 554\n",
            "Pessoa555 ==> 555\n",
            "Pessoa556 ==> 556\n",
            "Pessoa557 ==> 557\n",
            "Pessoa558 ==> 558\n",
            "Pessoa559 ==> 559\n",
            "Pessoa560 ==> 560\n",
            "Pessoa561 ==> 561\n",
            "Pessoa562 ==> 562\n",
            "Pessoa563 ==> 563\n",
            "Pessoa564 ==> 564\n",
            "Pessoa565 ==> 565\n",
            "Pessoa566 ==> 566\n",
            "Pessoa567 ==> 567\n",
            "Pessoa568 ==> 568\n",
            "Pessoa569 ==> 569\n",
            "Pessoa570 ==> 570\n",
            "Pessoa571 ==> 571\n",
            "Pessoa572 ==> 572\n",
            "Pessoa573 ==> 573\n",
            "Pessoa574 ==> 574\n",
            "Pessoa575 ==> 575\n",
            "Pessoa576 ==> 576\n",
            "Pessoa577 ==> 577\n",
            "Pessoa578 ==> 578\n",
            "Pessoa579 ==> 579\n",
            "Pessoa580 ==> 580\n",
            "Pessoa581 ==> 581\n",
            "Pessoa582 ==> 582\n",
            "Pessoa583 ==> 583\n",
            "Pessoa584 ==> 584\n",
            "Pessoa585 ==> 585\n",
            "Pessoa586 ==> 586\n",
            "Pessoa587 ==> 587\n",
            "Pessoa588 ==> 588\n",
            "Pessoa589 ==> 589\n",
            "Pessoa590 ==> 590\n",
            "Pessoa591 ==> 591\n",
            "Pessoa592 ==> 592\n",
            "Pessoa593 ==> 593\n",
            "Pessoa594 ==> 594\n",
            "Pessoa595 ==> 595\n",
            "Pessoa596 ==> 596\n",
            "Pessoa597 ==> 597\n",
            "Pessoa598 ==> 598\n",
            "Pessoa599 ==> 599\n",
            "Pessoa600 ==> 600\n",
            "Pessoa601 ==> 601\n",
            "Pessoa602 ==> 602\n",
            "Pessoa603 ==> 603\n",
            "Pessoa604 ==> 604\n",
            "Pessoa605 ==> 605\n",
            "Pessoa606 ==> 606\n",
            "Pessoa607 ==> 607\n",
            "Pessoa608 ==> 608\n",
            "Pessoa609 ==> 609\n",
            "Pessoa610 ==> 610\n",
            "Pessoa611 ==> 611\n",
            "Pessoa612 ==> 612\n",
            "Pessoa613 ==> 613\n",
            "Pessoa614 ==> 614\n",
            "Pessoa615 ==> 615\n",
            "Pessoa616 ==> 616\n",
            "Pessoa617 ==> 617\n",
            "Pessoa618 ==> 618\n",
            "Pessoa619 ==> 619\n",
            "Pessoa620 ==> 620\n",
            "Pessoa621 ==> 621\n",
            "Pessoa622 ==> 622\n",
            "Pessoa623 ==> 623\n",
            "Pessoa624 ==> 624\n",
            "Pessoa625 ==> 625\n",
            "Pessoa626 ==> 626\n",
            "Pessoa627 ==> 627\n",
            "Pessoa628 ==> 628\n",
            "Pessoa629 ==> 629\n",
            "Pessoa630 ==> 630\n",
            "Pessoa631 ==> 631\n",
            "Pessoa632 ==> 632\n",
            "Pessoa633 ==> 633\n",
            "Pessoa634 ==> 634\n",
            "Pessoa635 ==> 635\n",
            "Pessoa636 ==> 636\n",
            "Pessoa637 ==> 637\n",
            "Pessoa638 ==> 638\n",
            "Pessoa639 ==> 639\n",
            "Pessoa640 ==> 640\n",
            "Pessoa641 ==> 641\n",
            "Pessoa642 ==> 642\n",
            "Pessoa643 ==> 643\n",
            "Pessoa644 ==> 644\n",
            "Pessoa645 ==> 645\n",
            "Pessoa646 ==> 646\n",
            "Pessoa647 ==> 647\n",
            "Pessoa648 ==> 648\n",
            "Pessoa649 ==> 649\n",
            "Pessoa650 ==> 650\n",
            "Pessoa651 ==> 651\n",
            "Pessoa652 ==> 652\n",
            "Pessoa653 ==> 653\n",
            "Pessoa654 ==> 654\n",
            "Pessoa655 ==> 655\n",
            "Pessoa656 ==> 656\n",
            "Pessoa657 ==> 657\n",
            "Pessoa658 ==> 658\n",
            "Pessoa659 ==> 659\n",
            "Pessoa660 ==> 660\n",
            "Pessoa661 ==> 661\n",
            "Pessoa662 ==> 662\n",
            "Pessoa663 ==> 663\n",
            "Pessoa664 ==> 664\n",
            "Pessoa665 ==> 665\n",
            "Pessoa666 ==> 666\n",
            "Pessoa667 ==> 667\n",
            "Pessoa668 ==> 668\n",
            "Pessoa669 ==> 669\n",
            "Pessoa670 ==> 670\n",
            "Pessoa671 ==> 671\n",
            "Pessoa672 ==> 672\n",
            "Pessoa673 ==> 673\n",
            "Pessoa674 ==> 674\n",
            "Pessoa675 ==> 675\n",
            "Pessoa676 ==> 676\n",
            "Pessoa677 ==> 677\n",
            "Pessoa678 ==> 678\n",
            "Pessoa679 ==> 679\n",
            "Pessoa680 ==> 680\n",
            "Pessoa681 ==> 681\n",
            "Pessoa682 ==> 682\n",
            "Pessoa683 ==> 683\n",
            "Pessoa684 ==> 684\n",
            "Pessoa685 ==> 685\n",
            "Pessoa686 ==> 686\n",
            "Pessoa687 ==> 687\n",
            "Pessoa688 ==> 688\n",
            "Pessoa689 ==> 689\n",
            "Pessoa690 ==> 690\n",
            "Pessoa691 ==> 691\n",
            "Pessoa692 ==> 692\n",
            "Pessoa693 ==> 693\n",
            "Pessoa694 ==> 694\n",
            "Pessoa695 ==> 695\n",
            "Pessoa696 ==> 696\n",
            "Pessoa697 ==> 697\n",
            "Pessoa698 ==> 698\n",
            "Pessoa699 ==> 699\n",
            "Pessoa700 ==> 700\n",
            "Pessoa701 ==> 701\n",
            "Pessoa702 ==> 702\n",
            "Pessoa703 ==> 703\n",
            "Pessoa704 ==> 704\n",
            "Pessoa705 ==> 705\n",
            "Pessoa706 ==> 706\n",
            "Pessoa707 ==> 707\n",
            "Pessoa708 ==> 708\n",
            "Pessoa709 ==> 709\n",
            "Pessoa710 ==> 710\n",
            "Pessoa711 ==> 711\n",
            "Pessoa712 ==> 712\n",
            "Pessoa713 ==> 713\n",
            "Pessoa714 ==> 714\n",
            "Pessoa715 ==> 715\n",
            "Pessoa716 ==> 716\n",
            "Pessoa717 ==> 717\n",
            "Pessoa718 ==> 718\n",
            "Pessoa719 ==> 719\n",
            "Pessoa720 ==> 720\n",
            "Pessoa721 ==> 721\n",
            "Pessoa722 ==> 722\n",
            "Pessoa723 ==> 723\n",
            "Pessoa724 ==> 724\n",
            "Pessoa725 ==> 725\n",
            "Pessoa726 ==> 726\n",
            "Pessoa727 ==> 727\n",
            "Pessoa728 ==> 728\n",
            "Pessoa729 ==> 729\n",
            "Pessoa730 ==> 730\n",
            "Pessoa731 ==> 731\n",
            "Pessoa732 ==> 732\n",
            "Pessoa733 ==> 733\n",
            "Pessoa734 ==> 734\n",
            "Pessoa735 ==> 735\n",
            "Pessoa736 ==> 736\n",
            "Pessoa737 ==> 737\n",
            "Pessoa738 ==> 738\n",
            "Pessoa739 ==> 739\n",
            "Pessoa740 ==> 740\n",
            "Pessoa741 ==> 741\n",
            "Pessoa742 ==> 742\n",
            "Pessoa743 ==> 743\n",
            "Pessoa744 ==> 744\n",
            "Pessoa745 ==> 745\n",
            "Pessoa746 ==> 746\n",
            "Pessoa747 ==> 747\n",
            "Pessoa748 ==> 748\n",
            "Pessoa749 ==> 749\n",
            "Pessoa750 ==> 750\n",
            "Pessoa751 ==> 751\n",
            "Pessoa752 ==> 752\n",
            "Pessoa753 ==> 753\n",
            "Pessoa754 ==> 754\n",
            "Pessoa755 ==> 755\n",
            "Pessoa756 ==> 756\n",
            "Pessoa757 ==> 757\n",
            "Pessoa758 ==> 758\n",
            "Pessoa759 ==> 759\n",
            "Pessoa760 ==> 760\n",
            "Pessoa761 ==> 761\n",
            "Pessoa762 ==> 762\n",
            "Pessoa763 ==> 763\n",
            "Pessoa764 ==> 764\n",
            "Pessoa765 ==> 765\n",
            "Pessoa766 ==> 766\n",
            "Pessoa767 ==> 767\n",
            "Pessoa768 ==> 768\n",
            "Pessoa769 ==> 769\n",
            "Pessoa770 ==> 770\n",
            "Pessoa771 ==> 771\n",
            "Pessoa772 ==> 772\n",
            "Pessoa773 ==> 773\n",
            "Pessoa774 ==> 774\n",
            "Pessoa775 ==> 775\n",
            "Pessoa776 ==> 776\n",
            "Pessoa777 ==> 777\n",
            "Pessoa778 ==> 778\n",
            "Pessoa779 ==> 779\n",
            "Pessoa780 ==> 780\n",
            "Pessoa781 ==> 781\n",
            "Pessoa782 ==> 782\n",
            "Pessoa783 ==> 783\n",
            "Pessoa784 ==> 784\n",
            "Pessoa785 ==> 785\n",
            "Pessoa786 ==> 786\n",
            "Pessoa787 ==> 787\n",
            "Pessoa788 ==> 788\n",
            "Pessoa789 ==> 789\n",
            "Pessoa790 ==> 790\n",
            "Pessoa791 ==> 791\n",
            "Pessoa792 ==> 792\n",
            "Pessoa793 ==> 793\n",
            "Pessoa794 ==> 794\n",
            "Pessoa795 ==> 795\n",
            "Pessoa796 ==> 796\n",
            "Pessoa797 ==> 797\n",
            "Pessoa798 ==> 798\n",
            "Pessoa799 ==> 799\n",
            "Pessoa800 ==> 800\n",
            "Pessoa801 ==> 801\n",
            "Pessoa802 ==> 802\n",
            "Pessoa803 ==> 803\n",
            "Pessoa804 ==> 804\n",
            "Pessoa805 ==> 805\n",
            "Pessoa806 ==> 806\n",
            "Pessoa807 ==> 807\n",
            "Pessoa808 ==> 808\n",
            "Pessoa809 ==> 809\n",
            "Pessoa810 ==> 810\n",
            "Pessoa811 ==> 811\n",
            "Pessoa812 ==> 812\n",
            "Pessoa813 ==> 813\n",
            "Pessoa814 ==> 814\n",
            "Pessoa815 ==> 815\n",
            "Pessoa816 ==> 816\n",
            "Pessoa817 ==> 817\n",
            "Pessoa818 ==> 818\n",
            "Pessoa819 ==> 819\n",
            "Pessoa820 ==> 820\n",
            "Pessoa821 ==> 821\n",
            "Pessoa822 ==> 822\n",
            "Pessoa823 ==> 823\n",
            "Pessoa824 ==> 824\n",
            "Pessoa825 ==> 825\n",
            "Pessoa826 ==> 826\n",
            "Pessoa827 ==> 827\n",
            "Pessoa828 ==> 828\n",
            "Pessoa829 ==> 829\n",
            "Pessoa830 ==> 830\n",
            "Pessoa831 ==> 831\n",
            "Pessoa832 ==> 832\n",
            "Pessoa833 ==> 833\n",
            "Pessoa834 ==> 834\n",
            "Pessoa835 ==> 835\n",
            "Pessoa836 ==> 836\n",
            "Pessoa837 ==> 837\n",
            "Pessoa838 ==> 838\n",
            "Pessoa839 ==> 839\n",
            "Pessoa840 ==> 840\n",
            "Pessoa841 ==> 841\n",
            "Pessoa842 ==> 842\n",
            "Pessoa843 ==> 843\n",
            "Pessoa844 ==> 844\n",
            "Pessoa845 ==> 845\n",
            "Pessoa846 ==> 846\n",
            "Pessoa847 ==> 847\n",
            "Pessoa848 ==> 848\n",
            "Pessoa849 ==> 849\n",
            "Pessoa850 ==> 850\n",
            "Pessoa851 ==> 851\n",
            "Pessoa852 ==> 852\n",
            "Pessoa853 ==> 853\n",
            "Pessoa854 ==> 854\n",
            "Pessoa855 ==> 855\n",
            "Pessoa856 ==> 856\n",
            "Pessoa857 ==> 857\n",
            "Pessoa858 ==> 858\n",
            "Pessoa859 ==> 859\n",
            "Pessoa860 ==> 860\n",
            "Pessoa861 ==> 861\n",
            "Pessoa862 ==> 862\n",
            "Pessoa863 ==> 863\n",
            "Pessoa864 ==> 864\n",
            "Pessoa865 ==> 865\n",
            "Pessoa866 ==> 866\n",
            "Pessoa867 ==> 867\n",
            "Pessoa868 ==> 868\n",
            "Pessoa869 ==> 869\n",
            "Pessoa870 ==> 870\n",
            "Pessoa871 ==> 871\n",
            "Pessoa872 ==> 872\n",
            "Pessoa873 ==> 873\n",
            "Pessoa874 ==> 874\n",
            "Pessoa875 ==> 875\n",
            "Pessoa876 ==> 876\n",
            "Pessoa877 ==> 877\n",
            "Pessoa878 ==> 878\n",
            "Pessoa879 ==> 879\n",
            "Pessoa880 ==> 880\n",
            "Pessoa881 ==> 881\n",
            "Pessoa882 ==> 882\n",
            "Pessoa883 ==> 883\n",
            "Pessoa884 ==> 884\n",
            "Pessoa885 ==> 885\n",
            "Pessoa886 ==> 886\n",
            "Pessoa887 ==> 887\n",
            "Pessoa888 ==> 888\n",
            "Pessoa889 ==> 889\n",
            "Pessoa890 ==> 890\n",
            "Pessoa891 ==> 891\n",
            "Pessoa892 ==> 892\n",
            "Pessoa893 ==> 893\n",
            "Pessoa894 ==> 894\n",
            "Pessoa895 ==> 895\n",
            "Pessoa896 ==> 896\n",
            "Pessoa897 ==> 897\n",
            "Pessoa898 ==> 898\n",
            "Pessoa899 ==> 899\n",
            "Pessoa900 ==> 900\n",
            "Pessoa901 ==> 901\n",
            "Pessoa902 ==> 902\n",
            "Pessoa903 ==> 903\n",
            "Pessoa904 ==> 904\n",
            "Pessoa905 ==> 905\n",
            "Pessoa906 ==> 906\n",
            "Pessoa907 ==> 907\n",
            "Pessoa908 ==> 908\n",
            "Pessoa909 ==> 909\n",
            "Pessoa910 ==> 910\n",
            "Pessoa911 ==> 911\n",
            "Pessoa912 ==> 912\n",
            "Pessoa913 ==> 913\n",
            "Pessoa914 ==> 914\n",
            "Pessoa915 ==> 915\n",
            "Pessoa916 ==> 916\n",
            "Pessoa917 ==> 917\n",
            "Pessoa918 ==> 918\n",
            "Pessoa919 ==> 919\n",
            "Pessoa920 ==> 920\n",
            "Pessoa921 ==> 921\n",
            "Pessoa922 ==> 922\n",
            "Pessoa923 ==> 923\n",
            "Pessoa924 ==> 924\n",
            "Pessoa925 ==> 925\n",
            "Pessoa926 ==> 926\n",
            "Pessoa927 ==> 927\n",
            "Pessoa928 ==> 928\n",
            "Pessoa929 ==> 929\n",
            "Pessoa930 ==> 930\n",
            "Pessoa931 ==> 931\n",
            "Pessoa932 ==> 932\n",
            "Pessoa933 ==> 933\n",
            "Pessoa934 ==> 934\n",
            "Pessoa935 ==> 935\n",
            "Pessoa936 ==> 936\n",
            "Pessoa937 ==> 937\n",
            "Pessoa938 ==> 938\n",
            "Pessoa939 ==> 939\n",
            "Pessoa940 ==> 940\n",
            "Pessoa941 ==> 941\n",
            "Pessoa942 ==> 942\n",
            "Pessoa943 ==> 943\n",
            "Pessoa944 ==> 944\n",
            "Pessoa945 ==> 945\n",
            "Pessoa946 ==> 946\n",
            "Pessoa947 ==> 947\n",
            "Pessoa948 ==> 948\n",
            "Pessoa949 ==> 949\n",
            "Pessoa950 ==> 950\n",
            "Pessoa951 ==> 951\n",
            "Pessoa952 ==> 952\n",
            "Pessoa953 ==> 953\n",
            "Pessoa954 ==> 954\n",
            "Pessoa955 ==> 955\n",
            "Pessoa956 ==> 956\n",
            "Pessoa957 ==> 957\n",
            "Pessoa958 ==> 958\n",
            "Pessoa959 ==> 959\n",
            "Pessoa960 ==> 960\n",
            "Pessoa961 ==> 961\n",
            "Pessoa962 ==> 962\n",
            "Pessoa963 ==> 963\n",
            "Pessoa964 ==> 964\n",
            "Pessoa965 ==> 965\n",
            "Pessoa966 ==> 966\n",
            "Pessoa967 ==> 967\n",
            "Pessoa968 ==> 968\n",
            "Pessoa969 ==> 969\n",
            "Pessoa970 ==> 970\n",
            "Pessoa971 ==> 971\n",
            "Pessoa972 ==> 972\n",
            "Pessoa973 ==> 973\n",
            "Pessoa974 ==> 974\n",
            "Pessoa975 ==> 975\n",
            "Pessoa976 ==> 976\n",
            "Pessoa977 ==> 977\n",
            "Pessoa978 ==> 978\n",
            "Pessoa979 ==> 979\n",
            "Pessoa980 ==> 980\n",
            "Pessoa981 ==> 981\n",
            "Pessoa982 ==> 982\n",
            "Pessoa983 ==> 983\n",
            "Pessoa984 ==> 984\n",
            "Pessoa985 ==> 985\n",
            "Pessoa986 ==> 986\n",
            "Pessoa987 ==> 987\n",
            "Pessoa988 ==> 988\n",
            "Pessoa989 ==> 989\n",
            "Pessoa990 ==> 990\n",
            "Pessoa991 ==> 991\n",
            "Pessoa992 ==> 992\n",
            "Pessoa993 ==> 993\n",
            "Pessoa994 ==> 994\n",
            "Pessoa995 ==> 995\n",
            "Pessoa996 ==> 996\n",
            "Pessoa997 ==> 997\n",
            "Pessoa998 ==> 998\n",
            "Pessoa999 ==> 999\n"
          ]
        }
      ],
      "source": [
        "@print_dict()\n",
        "def get(): return { f\"Pessoa{i}\": i for i in range(0, 1000) }"
      ]
    },
    {
      "cell_type": "markdown",
      "metadata": {
        "id": "3T043mhrjeC5"
      },
      "source": [
        "## Outro exemplo legal de Dict comprehensions"
      ]
    },
    {
      "cell_type": "code",
      "execution_count": 103,
      "metadata": {
        "id": "DFOtYpRoXpV9"
      },
      "outputs": [
        {
          "data": {
            "text/plain": [
              "{'Banana': 'Amarela', 'Morango': 'Vermelha', 'Blueberry': 'Azul'}"
            ]
          },
          "execution_count": 103,
          "metadata": {},
          "output_type": "execute_result"
        }
      ],
      "source": [
        "cores_das_frutas = { str(key): value for key, value in [ ('Banana', 'Amarela'), ('Morango', 'Vermelha'), ('Blueberry', 'Azul') ] }\n",
        "cores_das_frutas"
      ]
    },
    {
      "cell_type": "code",
      "execution_count": 104,
      "metadata": {
        "id": "RP5sTcN4YbCv"
      },
      "outputs": [
        {
          "name": "stdout",
          "output_type": "stream",
          "text": [
            "Some não existe na base de dados\n"
          ]
        }
      ],
      "source": [
        "fruta = input('Digite uma fruta: ')\n",
        "print(f'{fruta} é da cor {cores_das_frutas[fruta]}' if cores_das_frutas.get(fruta, None) else f\"{fruta} não existe na base de dados\")"
      ]
    },
    {
      "cell_type": "code",
      "execution_count": null,
      "metadata": {
        "id": "Ij9UOb4iYhrn"
      },
      "outputs": [],
      "source": []
    },
    {
      "cell_type": "markdown",
      "metadata": {
        "id": "C6ev1hi9kddR"
      },
      "source": [
        "# Funções de ordem superior\n",
        "Vamos fazer algumas operações com a lista de trabalho abaixo para entender como as funções de ordem superior podem nos ajudar"
      ]
    },
    {
      "cell_type": "code",
      "execution_count": 105,
      "metadata": {
        "colab": {
          "base_uri": "https://localhost:8080/"
        },
        "id": "NvO7ucm2sipD",
        "outputId": "4a0aaca0-e072-469c-d0e0-b6253939d4e3"
      },
      "outputs": [
        {
          "data": {
            "text/plain": [
              "[5, 12, 14, 0, 1, 2, 24, 49, 40, 3, 7]"
            ]
          },
          "execution_count": 105,
          "metadata": {},
          "output_type": "execute_result"
        }
      ],
      "source": [
        "lista = [ 5, 12, 14, 0, 1, 2, 24, 49, 40, 3, 7 ]\n",
        "lista"
      ]
    },
    {
      "cell_type": "markdown",
      "metadata": {
        "id": "TdqpkFYat8Qb"
      },
      "source": [
        "## Ordenação"
      ]
    },
    {
      "cell_type": "markdown",
      "metadata": {
        "id": "ou9c6KF_t_KG"
      },
      "source": [
        "### Estruturado/sequencial"
      ]
    },
    {
      "cell_type": "code",
      "execution_count": 106,
      "metadata": {},
      "outputs": [],
      "source": [
        "# for i in range(len(lista)):\n",
        "#   for j in range(i + 1, len(lista)):\n",
        "#     if lista[i] > lista[j]:\n",
        "#       temp = lista[i]\n",
        "#       lista[i] = lista[j]\n",
        "#       lista[j] = temp\n",
        "# lista"
      ]
    },
    {
      "cell_type": "code",
      "execution_count": 107,
      "metadata": {
        "colab": {
          "base_uri": "https://localhost:8080/"
        },
        "id": "7bKDJuyIuET0",
        "outputId": "91aeede5-3d89-4a1f-a028-627f144e5cf4"
      },
      "outputs": [
        {
          "data": {
            "text/plain": [
              "[0, 1, 2, 3, 5, 7, 12, 14, 24, 40, 49]"
            ]
          },
          "execution_count": 107,
          "metadata": {},
          "output_type": "execute_result"
        }
      ],
      "source": [
        "from copy import deepcopy\n",
        "ordenada = deepcopy(lista)\n",
        "for i in range(len(ordenada)):\n",
        "  for j in range(i + 1, len(ordenada)):\n",
        "    if ordenada[i] > ordenada[j]:\n",
        "      temp = ordenada[i]\n",
        "      ordenada[i] = ordenada[j]\n",
        "      ordenada[j] = temp\n",
        "ordenada"
      ]
    },
    {
      "cell_type": "markdown",
      "metadata": {
        "id": "VwXi92jOwKIK"
      },
      "source": [
        "### Funcional"
      ]
    },
    {
      "cell_type": "code",
      "execution_count": 108,
      "metadata": {
        "colab": {
          "base_uri": "https://localhost:8080/"
        },
        "id": "kgk1NpWvtgQS",
        "outputId": "8dc7de29-1375-4722-9cc9-a86d0dc49315"
      },
      "outputs": [
        {
          "data": {
            "text/plain": [
              "[0, 1, 2, 3, 5, 7, 12, 14, 24, 40, 49]"
            ]
          },
          "execution_count": 108,
          "metadata": {},
          "output_type": "execute_result"
        }
      ],
      "source": [
        "ordenada_hoc = sorted(lista)\n",
        "ordenada_hoc"
      ]
    },
    {
      "cell_type": "code",
      "execution_count": 109,
      "metadata": {},
      "outputs": [
        {
          "data": {
            "text/plain": [
              "[5, 12, 14, 0, 1, 2, 24, 49, 40, 3, 7]"
            ]
          },
          "execution_count": 109,
          "metadata": {},
          "output_type": "execute_result"
        }
      ],
      "source": [
        "lista"
      ]
    },
    {
      "cell_type": "markdown",
      "metadata": {
        "id": "d3artXO5wm2W"
      },
      "source": [
        "## Filtragem"
      ]
    },
    {
      "cell_type": "markdown",
      "metadata": {
        "id": "M8OiMLOAwpvE"
      },
      "source": [
        "### Imperativo"
      ]
    },
    {
      "cell_type": "code",
      "execution_count": 110,
      "metadata": {},
      "outputs": [
        {
          "data": {
            "text/plain": [
              "[0, 1, 2, 3, 5, 7, 12, 14, 24, 40, 49]"
            ]
          },
          "execution_count": 110,
          "metadata": {},
          "output_type": "execute_result"
        }
      ],
      "source": [
        "ordenada_hoc"
      ]
    },
    {
      "cell_type": "code",
      "execution_count": 111,
      "metadata": {},
      "outputs": [],
      "source": [
        "# for index, candidato in enumerate(ordenada_hoc):\n",
        "#   if not candidato % 2 == 0:\n",
        "#     ordenada_hoc.pop(index)\n",
        "# ordenada_hoc"
      ]
    },
    {
      "cell_type": "code",
      "execution_count": 62,
      "metadata": {
        "colab": {
          "base_uri": "https://localhost:8080/"
        },
        "id": "jeTTXu8JwyYi",
        "outputId": "840d276c-d157-4add-a729-01a094508224"
      },
      "outputs": [
        {
          "data": {
            "text/plain": [
              "[0, 2, 12, 14, 24, 40]"
            ]
          },
          "execution_count": 62,
          "metadata": {},
          "output_type": "execute_result"
        }
      ],
      "source": [
        "filtrado = []\n",
        "for candidato in ordenada_hoc:\n",
        "  if candidato % 2 == 0:\n",
        "    filtrado.append(candidato)\n",
        "filtrado"
      ]
    },
    {
      "cell_type": "markdown",
      "metadata": {
        "id": "bSpXI6Ggwuw1"
      },
      "source": [
        "### Funcional"
      ]
    },
    {
      "cell_type": "code",
      "execution_count": 20,
      "metadata": {
        "colab": {
          "base_uri": "https://localhost:8080/"
        },
        "id": "FpTeU2UNNibD",
        "outputId": "662c5027-4700-4708-d8c3-de9849d4fb2c"
      },
      "outputs": [
        {
          "data": {
            "text/plain": [
              "[0, 2, 12, 14, 24, 40]"
            ]
          },
          "execution_count": 20,
          "metadata": {},
          "output_type": "execute_result"
        }
      ],
      "source": [
        "filtrado = list(filter(lambda x: x%2 == 0, ordenada_hoc))\n",
        "filtrado"
      ]
    },
    {
      "cell_type": "markdown",
      "metadata": {
        "id": "oZdOmCHwxjlr"
      },
      "source": [
        "## Mapeamento"
      ]
    },
    {
      "cell_type": "code",
      "execution_count": 21,
      "metadata": {
        "colab": {
          "base_uri": "https://localhost:8080/"
        },
        "id": "vTGkiDvvkjEB",
        "outputId": "51ad99c9-3775-4847-dd21-619cfb0aac07"
      },
      "outputs": [
        {
          "data": {
            "text/plain": [
              "[0, 1, 4, 9, 25, 49, 144, 196, 576, 1600, 2401]"
            ]
          },
          "execution_count": 21,
          "metadata": {},
          "output_type": "execute_result"
        }
      ],
      "source": [
        "a = list(map(lambda x: x**2, sorted(lista)))\n",
        "a"
      ]
    },
    {
      "cell_type": "markdown",
      "metadata": {},
      "source": []
    },
    {
      "cell_type": "markdown",
      "metadata": {
        "id": "AXa9PSwa9JGd"
      },
      "source": [
        "# Testes"
      ]
    },
    {
      "cell_type": "code",
      "execution_count": 22,
      "metadata": {},
      "outputs": [
        {
          "data": {
            "text/plain": [
              "0"
            ]
          },
          "execution_count": 22,
          "metadata": {},
          "output_type": "execute_result"
        }
      ],
      "source": [
        "sum([])"
      ]
    },
    {
      "cell_type": "code",
      "execution_count": null,
      "metadata": {},
      "outputs": [],
      "source": []
    }
  ],
  "metadata": {
    "colab": {
      "collapsed_sections": [
        "W4vp9EVuXH-D",
        "KCxQhdJcXRlW",
        "Nq-e728KhUSm",
        "TdqpkFYat8Qb",
        "ou9c6KF_t_KG",
        "VwXi92jOwKIK",
        "d3artXO5wm2W",
        "oZdOmCHwxjlr"
      ],
      "provenance": []
    },
    "kernelspec": {
      "display_name": "base",
      "language": "python",
      "name": "python3"
    },
    "language_info": {
      "codemirror_mode": {
        "name": "ipython",
        "version": 3
      },
      "file_extension": ".py",
      "mimetype": "text/x-python",
      "name": "python",
      "nbconvert_exporter": "python",
      "pygments_lexer": "ipython3",
      "version": "3.11.9"
    }
  },
  "nbformat": 4,
  "nbformat_minor": 0
}
